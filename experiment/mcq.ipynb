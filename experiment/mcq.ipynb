{
 "cells": [
  {
   "cell_type": "code",
   "execution_count": 26,
   "metadata": {},
   "outputs": [],
   "source": [
    "import os\n",
    "from dotenv import load_dotenv\n",
    "import pandas as pd\n",
    "import json\n",
    "import traceback\n",
    "import PyPDF2\n",
    "\n",
    "from langchain.llms import OpenAI\n",
    "from langchain.chat_models import ChatOpenAI\n",
    "from langchain.prompts import PromptTemplate\n",
    "from langchain.chains import LLMChain\n",
    "from langchain.chains import SequentialChain\n",
    "from langchain.callbacks import get_openai_callback"
   ]
  },
  {
   "cell_type": "code",
   "execution_count": 27,
   "metadata": {},
   "outputs": [
    {
     "data": {
      "text/plain": [
       "True"
      ]
     },
     "execution_count": 27,
     "metadata": {},
     "output_type": "execute_result"
    }
   ],
   "source": [
    "load_dotenv()"
   ]
  },
  {
   "cell_type": "code",
   "execution_count": 28,
   "metadata": {},
   "outputs": [],
   "source": [
    "key = os.getenv(\"OPENAI_API_KEY\")"
   ]
  },
  {
   "cell_type": "code",
   "execution_count": 29,
   "metadata": {},
   "outputs": [],
   "source": [
    "llm = ChatOpenAI(\n",
    "    openai_api_key=key,\n",
    "    model_name=\"gpt-3.5-turbo\", \n",
    "    temperature=0.5)"
   ]
  },
  {
   "cell_type": "code",
   "execution_count": 30,
   "metadata": {},
   "outputs": [],
   "source": [
    "RESPONSE_JSON = {\n",
    "    \"1\": {\n",
    "        \"mcq\": \"multiple choice question\",\n",
    "        \"options\": {\n",
    "            \"a\": \"choice here\",\n",
    "            \"b\": \"choice here\",\n",
    "            \"c\": \"choice here\",\n",
    "            \"d\": \"choice here\",\n",
    "        },\n",
    "        \"correct\": \"correct answer\",\n",
    "    },\n",
    "    \"2\": {\n",
    "        \"mcq\": \"multiple choice question\",\n",
    "        \"options\": {\n",
    "            \"a\": \"choice here\",\n",
    "            \"b\": \"choice here\",\n",
    "            \"c\": \"choice here\",\n",
    "            \"d\": \"choice here\",\n",
    "        },\n",
    "        \"correct\": \"correct answer\",\n",
    "    },\n",
    "    \"3\": {\n",
    "        \"mcq\": \"multiple choice question\",\n",
    "        \"options\": {\n",
    "            \"a\": \"choice here\",\n",
    "            \"b\": \"choice here\",\n",
    "            \"c\": \"choice here\",\n",
    "            \"d\": \"choice here\",\n",
    "        },\n",
    "        \"correct\": \"correct answer\",\n",
    "    },\n",
    "}"
   ]
  },
  {
   "cell_type": "code",
   "execution_count": 57,
   "metadata": {},
   "outputs": [],
   "source": [
    "TEMPLATE = \"\"\"\n",
    "\n",
    "Text:{text}\n",
    "You are an expert MCQ maker. Given the above text, it is your job to \\\n",
    "create a quiz of multiple choice questions for {subject} students in {tone} tone. \n",
    "Make sure the questions are not repeated and check all the questions to be conforming the text as well.\n",
    "Make sure to format your response like  RESPONSE_JSON below  and use it as a guide. \\\n",
    "Ensure to create {number} MCQs\n",
    "{response_json}\n",
    "\n",
    "\"\"\""
   ]
  },
  {
   "cell_type": "code",
   "execution_count": 58,
   "metadata": {},
   "outputs": [],
   "source": [
    "quiz_generation_prompt = PromptTemplate(\n",
    "    input_variables = [\"text\", \"number\", \"subject\", \"tone\", \"response_json\"],\n",
    "    template = TEMPLATE\n",
    "    )"
   ]
  },
  {
   "cell_type": "code",
   "execution_count": 59,
   "metadata": {},
   "outputs": [],
   "source": [
    "quiz_chain = LLMChain(\n",
    "    llm=llm, \n",
    "    prompt=quiz_generation_prompt, \n",
    "    output_key=\"quiz\", \n",
    "    verbose=True)"
   ]
  },
  {
   "cell_type": "code",
   "execution_count": 60,
   "metadata": {},
   "outputs": [],
   "source": [
    "TEMPLATE2 = \"\"\"\n",
    "\n",
    "You are an expert english grammarian and writer. Given a Multiple Choice Quiz for {subject} students.\\\n",
    "You need to evaluate the complexity of the question and give a complete analysis of the quiz. Only use at max 50 words for complexity analysis. \n",
    "if the quiz is not at par with the cognitive and analytical abilities of the students,\\\n",
    "update the quiz questions which need to be changed and change the tone such that it perfectly fits the student abilities\n",
    "Quiz_MCQs:\n",
    "{quiz}\n",
    "\n",
    "Check as an expert English Writer of the above quiz:\n",
    "\"\"\""
   ]
  },
  {
   "cell_type": "code",
   "execution_count": 61,
   "metadata": {},
   "outputs": [],
   "source": [
    "quiz_evaluation_prompt = PromptTemplate(\n",
    "    input_variables = [\"subject\", \"quiz\"],\n",
    "    template = TEMPLATE2)"
   ]
  },
  {
   "cell_type": "code",
   "execution_count": 62,
   "metadata": {},
   "outputs": [],
   "source": [
    "review_chain = LLMChain(llm=llm, prompt=quiz_evaluation_prompt, output_key=\"review\", verbose=True)"
   ]
  },
  {
   "cell_type": "code",
   "execution_count": 63,
   "metadata": {},
   "outputs": [],
   "source": [
    "generate_evaluate_chain = SequentialChain(\n",
    "    chains=[quiz_chain, review_chain], \n",
    "    input_variables=[\"text\", \"number\", \"subject\", \"tone\", \"response_json\"],\n",
    "    output_variables=[\"quiz\", \"review\"], \n",
    "    verbose=True,)"
   ]
  },
  {
   "cell_type": "code",
   "execution_count": 64,
   "metadata": {},
   "outputs": [],
   "source": [
    "file_path = \"/Users/mithunsarkar/Desktop/MITHUN/STUDY/genai/Ineuron/mcqgen/data.txt\"\n",
    "\n",
    "with open(file_path, 'r') as file:\n",
    "    TEXT = file.read()"
   ]
  },
  {
   "cell_type": "code",
   "execution_count": 65,
   "metadata": {},
   "outputs": [
    {
     "data": {
      "text/plain": [
       "'{\"1\": {\"mcq\": \"multiple choice question\", \"options\": {\"a\": \"choice here\", \"b\": \"choice here\", \"c\": \"choice here\", \"d\": \"choice here\"}, \"correct\": \"correct answer\"}, \"2\": {\"mcq\": \"multiple choice question\", \"options\": {\"a\": \"choice here\", \"b\": \"choice here\", \"c\": \"choice here\", \"d\": \"choice here\"}, \"correct\": \"correct answer\"}, \"3\": {\"mcq\": \"multiple choice question\", \"options\": {\"a\": \"choice here\", \"b\": \"choice here\", \"c\": \"choice here\", \"d\": \"choice here\"}, \"correct\": \"correct answer\"}}'"
      ]
     },
     "execution_count": 65,
     "metadata": {},
     "output_type": "execute_result"
    }
   ],
   "source": [
    "# Serialize the Python dictionary into a JSON-formatted string\n",
    "json.dumps(RESPONSE_JSON)"
   ]
  },
  {
   "cell_type": "code",
   "execution_count": 87,
   "metadata": {},
   "outputs": [],
   "source": [
    "NUMBER = 7 \n",
    "SUBJECT = \"global politics\"\n",
    "TONE = \"simple\""
   ]
  },
  {
   "cell_type": "code",
   "execution_count": 88,
   "metadata": {},
   "outputs": [
    {
     "name": "stdout",
     "output_type": "stream",
     "text": [
      "\n",
      "\n",
      "\u001b[1m> Entering new SequentialChain chain...\u001b[0m\n",
      "\n",
      "\n",
      "\u001b[1m> Entering new LLMChain chain...\u001b[0m\n",
      "Prompt after formatting:\n",
      "\u001b[32;1m\u001b[1;3m\n",
      "\n",
      "Text:How should we study politics? Traditionally, there was a tendency to focus on political\n",
      "actors and institutions at the local and national levels. Beyond this, students and\n",
      "scholars in the political sub-field of international relations (IR) tend to consider ‘the\n",
      "international’ as the political space in which these local and national political interests\n",
      "are represented in the form of interaction between states, regions of states, and a\n",
      "worldwide ‘states-system’. But since the late twentieth century, the concept of\n",
      "globalization has challenged these narrow, state-centric ways of thinking about politics.\n",
      "This book is about global politics, which is to say it is about how politics – struggles\n",
      "over power, how it should be distributed, and how we might best organise ourselves\n",
      "and live together as societies – works at the global level.\n",
      "But what is ‘the global’ when it comes to politics, and why does it matter? How does it\n",
      "differ from ‘the international’, as a way of seeing or imagining our world? What kinds\n",
      "of actors, institutions, and processes contribute the most to the globalisation of politics,\n",
      "and which ones try to hold back its tide, and why? This chapter explores the rise of a\n",
      "global imaginary in discussions of politics and international relations, considers its\n",
      "implications for the study and practice of world politics – including issues ranging from\n",
      "state sovereignty to the Covid-19 coronavirus pandemic – and reflects upon continuity\n",
      "and change in global politics.\n",
      "KEY ISSUES\n",
      "• What is ‘the global’ and how does it relate to ‘the international’?\n",
      "• How have the contours of world politics changed in recent decades?\n",
      "• What have been the implications of globalization for world politics?\n",
      "• How do mainstream approaches to global politics differ from critical approaches?\n",
      "• Which aspects of world politics are changed by globalisation, and which remain the\n",
      "same?\n",
      "\n",
      "FROM ‘THE INTERNATIONAL’ TO ‘THE GLOBAL’?\n",
      "The aim of this book is to provide an up-to-date, integrated and forward-looking\n",
      "introduction to global politics . It seeks to be genuinely global while not ignoring the\n",
      "international dimension of world affairs, accepting that ‘the global’ and ‘the\n",
      "international’ complement one another and are not rival or incompatible modes of\n",
      "understanding. In this view, global politics encompasses not just politics at the ‘global’\n",
      "level – that is, worldwide processes, systems and institutional frameworks – but politics\n",
      "at, and, crucially, across, all levels – the worldwide, the regional, the national and the\n",
      "subnational (see Figure 1.1). Such an approach reflects the fact that while, over an\n",
      "increasing range of issues, states interact with one another in conditions of global\n",
      "interconnectedness and interdependence, they nevertheless remain the key actors on the\n",
      "world stage.\n",
      "However, if the international paradigm, in which world affairs boil down,\n",
      "essentially, to relations between and among states, no longer constitutes an adequate\n",
      "basis for understanding, what has changed, and how profound have these changes\n",
      "been? How have the contours of world politics changed in recent years? The most\n",
      "significant changes have been the following:\n",
      "• The emergence of new global actors\n",
      "• The growth of interdependence and interconnectedness\n",
      "The erosion of the domestic/international divide\n",
      "• The rise of global governance.\n",
      "State: A political institution that successfully claims sovereign jurisdiction within\n",
      "defined territorial borders.\n",
      "Focus on . . . Defining global politics?\n",
      "What does it mean to suggest that politics has ‘gone global’? How does ‘global’ politics\n",
      "differ from ‘international’ politics? The term ‘international’ means between nations,\n",
      "and is today commonly understood to mean between nation-states or simply ‘states’.\n",
      "The term ‘global’, on the other hand, has two meanings. In the first, global means\n",
      "worldwide, having planetary (not merely regional or national) significance. The globe\n",
      "is, in effect, the world. Global politics, in this sense, refers to politics that is conducted\n",
      "at a global rather than a local, national or regional level. It therefore focuses primarily\n",
      "on the work of organizations such as the United Nations (UN) and the World Trade\n",
      "Organization (WTO), which have a near universal membership, and on issues (such as\n",
      "the environment and the economy) where interconnectedness has gone so far that\n",
      "events and developments affect, actually or potentially, all parts of the world and so all\n",
      "people on the planet.\n",
      "In the second meaning (the one used in this book), global means comprehensive; it\n",
      "refers to all elements within a system, not just to the system as a whole. While such an\n",
      "approach acknowledges that a significant (and, perhaps, growing) range of political\n",
      "interactions now takes place at the global level, it rejects the idea that the global level\n",
      "has, in any sense, transcended politics at the national, local or, for that matter, any other\n",
      "level. In particular, the advent of global politics does not imply that international\n",
      "politics should be consigned to the dustbin of history. This is important because the\n",
      "notion that politics has been caught up in a swirl of interconnectedness that effectively\n",
      "absorbs all of its parts, or ‘units’, into an indivisible, global whole, is difficult to sustain. \n",
      "You are an expert MCQ maker. Given the above text, it is your job to create a quiz of multiple choice questions for global politics students in simple tone. \n",
      "Make sure the questions are not repeated and check all the questions to be conforming the text as well.\n",
      "Make sure to format your response like  RESPONSE_JSON below  and use it as a guide. Ensure to create 7 MCQs\n",
      "{\"1\": {\"mcq\": \"multiple choice question\", \"options\": {\"a\": \"choice here\", \"b\": \"choice here\", \"c\": \"choice here\", \"d\": \"choice here\"}, \"correct\": \"correct answer\"}, \"2\": {\"mcq\": \"multiple choice question\", \"options\": {\"a\": \"choice here\", \"b\": \"choice here\", \"c\": \"choice here\", \"d\": \"choice here\"}, \"correct\": \"correct answer\"}, \"3\": {\"mcq\": \"multiple choice question\", \"options\": {\"a\": \"choice here\", \"b\": \"choice here\", \"c\": \"choice here\", \"d\": \"choice here\"}, \"correct\": \"correct answer\"}}\n",
      "\n",
      "\u001b[0m\n",
      "\n",
      "\u001b[1m> Finished chain.\u001b[0m\n",
      "\n",
      "\n",
      "\u001b[1m> Entering new LLMChain chain...\u001b[0m\n",
      "Prompt after formatting:\n",
      "\u001b[32;1m\u001b[1;3m\n",
      "\n",
      "You are an expert english grammarian and writer. Given a Multiple Choice Quiz for global politics students.You need to evaluate the complexity of the question and give a complete analysis of the quiz. Only use at max 50 words for complexity analysis. \n",
      "if the quiz is not at par with the cognitive and analytical abilities of the students,update the quiz questions which need to be changed and change the tone such that it perfectly fits the student abilities\n",
      "Quiz_MCQs:\n",
      "{\n",
      "\"1\": {\n",
      "\"mcq\": \"What is the main focus of traditional political studies?\",\n",
      "\"options\": {\n",
      "\"a\": \"Global level politics\",\n",
      "\"b\": \"Local and national level politics\",\n",
      "\"c\": \"Regional level politics\",\n",
      "\"d\": \"State-centric politics\"\n",
      "},\n",
      "\"correct\": \"b\"\n",
      "},\n",
      "\"2\": {\n",
      "\"mcq\": \"What concept has challenged state-centric ways of thinking about politics since the late twentieth century?\",\n",
      "\"options\": {\n",
      "\"a\": \"Globalization\",\n",
      "\"b\": \"International relations\",\n",
      "\"c\": \"Nationalism\",\n",
      "\"d\": \"Sovereignty\"\n",
      "},\n",
      "\"correct\": \"a\"\n",
      "},\n",
      "\"3\": {\n",
      "\"mcq\": \"What is the main focus of global politics according to the text?\",\n",
      "\"options\": {\n",
      "\"a\": \"Local politics\",\n",
      "\"b\": \"National politics\",\n",
      "\"c\": \"Global level politics\",\n",
      "\"d\": \"State-centric politics\"\n",
      "},\n",
      "\"correct\": \"c\"\n",
      "},\n",
      "\"4\": {\n",
      "\"mcq\": \"What does the term 'global' mean in the context of global politics?\",\n",
      "\"options\": {\n",
      "\"a\": \"Between nations\",\n",
      "\"b\": \"Worldwide\",\n",
      "\"c\": \"Comprehensive\",\n",
      "\"d\": \"Regional\"\n",
      "},\n",
      "\"correct\": \"b\"\n",
      "},\n",
      "\"5\": {\n",
      "\"mcq\": \"What significant changes have occurred in world politics in recent years according to the text?\",\n",
      "\"options\": {\n",
      "\"a\": \"The growth of nationalism\",\n",
      "\"b\": \"The rise of global governance\",\n",
      "\"c\": \"The decline of interdependence\",\n",
      "\"d\": \"The strengthening of the domestic/international divide\"\n",
      "},\n",
      "\"correct\": \"b\"\n",
      "},\n",
      "\"6\": {\n",
      "\"mcq\": \"What does the term 'international' mean in the context of global politics?\",\n",
      "\"options\": {\n",
      "\"a\": \"Between nations\",\n",
      "\"b\": \"Worldwide\",\n",
      "\"c\": \"Comprehensive\",\n",
      "\"d\": \"Regional\"\n",
      "},\n",
      "\"correct\": \"a\"\n",
      "},\n",
      "\"7\": {\n",
      "\"mcq\": \"How does global politics differ from international politics?\",\n",
      "\"options\": {\n",
      "\"a\": \"Global politics focuses on regional issues\",\n",
      "\"b\": \"International politics focuses on global issues\",\n",
      "\"c\": \"Global politics is conducted at a global level, while international politics is between nations\",\n",
      "\"d\": \"International politics encompasses all levels of politics\"\n",
      "},\n",
      "\"correct\": \"c\"\n",
      "}\n",
      "}\n",
      "\n",
      "Check as an expert English Writer of the above quiz:\n",
      "\u001b[0m\n",
      "\n",
      "\u001b[1m> Finished chain.\u001b[0m\n",
      "\n",
      "\u001b[1m> Finished chain.\u001b[0m\n"
     ]
    }
   ],
   "source": [
    "#https://python.langchain.com/docs/modules/model_io/llms/token_usage_tracking\n",
    "\n",
    "#How to setup Token Usage Tracking in LangChain\n",
    "\n",
    "with get_openai_callback() as cb:\n",
    "    response = generate_evaluate_chain(\n",
    "        {\n",
    "            \"text\": TEXT,\n",
    "            \"number\": NUMBER,\n",
    "            \"subject\": SUBJECT,\n",
    "            \"tone\": TONE,\n",
    "            \"response_json\": json.dumps(RESPONSE_JSON)\n",
    "        }\n",
    "        )"
   ]
  },
  {
   "cell_type": "code",
   "execution_count": 89,
   "metadata": {},
   "outputs": [
    {
     "name": "stdout",
     "output_type": "stream",
     "text": [
      "Total Tokens:2413\n",
      "Prompt Tokens:1901\n",
      "Completion Tokens:512\n",
      "Total Cost:0.0038755\n"
     ]
    }
   ],
   "source": [
    "print(f\"Total Tokens:{cb.total_tokens}\")\n",
    "print(f\"Prompt Tokens:{cb.prompt_tokens}\") # input token\n",
    "print(f\"Completion Tokens:{cb.completion_tokens}\") # output token\n",
    "print(f\"Total Cost:{cb.total_cost}\")"
   ]
  },
  {
   "cell_type": "code",
   "execution_count": 90,
   "metadata": {},
   "outputs": [
    {
     "data": {
      "text/plain": [
       "{'text': 'How should we study politics? Traditionally, there was a tendency to focus on political\\nactors and institutions at the local and national levels. Beyond this, students and\\nscholars in the political sub-field of international relations (IR) tend to consider ‘the\\ninternational’ as the political space in which these local and national political interests\\nare represented in the form of interaction between states, regions of states, and a\\nworldwide ‘states-system’. But since the late twentieth century, the concept of\\nglobalization has challenged these narrow, state-centric ways of thinking about politics.\\nThis book is about global politics, which is to say it is about how politics – struggles\\nover power, how it should be distributed, and how we might best organise ourselves\\nand live together as societies – works at the global level.\\nBut what is ‘the global’ when it comes to politics, and why does it matter? How does it\\ndiffer from ‘the international’, as a way of seeing or imagining our world? What kinds\\nof actors, institutions, and processes contribute the most to the globalisation of politics,\\nand which ones try to hold back its tide, and why? This chapter explores the rise of a\\nglobal imaginary in discussions of politics and international relations, considers its\\nimplications for the study and practice of world politics – including issues ranging from\\nstate sovereignty to the Covid-19 coronavirus pandemic – and reflects upon continuity\\nand change in global politics.\\nKEY ISSUES\\n• What is ‘the global’ and how does it relate to ‘the international’?\\n• How have the contours of world politics changed in recent decades?\\n• What have been the implications of globalization for world politics?\\n• How do mainstream approaches to global politics differ from critical approaches?\\n• Which aspects of world politics are changed by globalisation, and which remain the\\nsame?\\n\\nFROM ‘THE INTERNATIONAL’ TO ‘THE GLOBAL’?\\nThe aim of this book is to provide an up-to-date, integrated and forward-looking\\nintroduction to global politics . It seeks to be genuinely global while not ignoring the\\ninternational dimension of world affairs, accepting that ‘the global’ and ‘the\\ninternational’ complement one another and are not rival or incompatible modes of\\nunderstanding. In this view, global politics encompasses not just politics at the ‘global’\\nlevel – that is, worldwide processes, systems and institutional frameworks – but politics\\nat, and, crucially, across, all levels – the worldwide, the regional, the national and the\\nsubnational (see Figure 1.1). Such an approach reflects the fact that while, over an\\nincreasing range of issues, states interact with one another in conditions of global\\ninterconnectedness and interdependence, they nevertheless remain the key actors on the\\nworld stage.\\nHowever, if the international paradigm, in which world affairs boil down,\\nessentially, to relations between and among states, no longer constitutes an adequate\\nbasis for understanding, what has changed, and how profound have these changes\\nbeen? How have the contours of world politics changed in recent years? The most\\nsignificant changes have been the following:\\n• The emergence of new global actors\\n• The growth of interdependence and interconnectedness\\nThe erosion of the domestic/international divide\\n• The rise of global governance.\\nState: A political institution that successfully claims sovereign jurisdiction within\\ndefined territorial borders.\\nFocus on . . . Defining global politics?\\nWhat does it mean to suggest that politics has ‘gone global’? How does ‘global’ politics\\ndiffer from ‘international’ politics? The term ‘international’ means between nations,\\nand is today commonly understood to mean between nation-states or simply ‘states’.\\nThe term ‘global’, on the other hand, has two meanings. In the first, global means\\nworldwide, having planetary (not merely regional or national) significance. The globe\\nis, in effect, the world. Global politics, in this sense, refers to politics that is conducted\\nat a global rather than a local, national or regional level. It therefore focuses primarily\\non the work of organizations such as the United Nations (UN) and the World Trade\\nOrganization (WTO), which have a near universal membership, and on issues (such as\\nthe environment and the economy) where interconnectedness has gone so far that\\nevents and developments affect, actually or potentially, all parts of the world and so all\\npeople on the planet.\\nIn the second meaning (the one used in this book), global means comprehensive; it\\nrefers to all elements within a system, not just to the system as a whole. While such an\\napproach acknowledges that a significant (and, perhaps, growing) range of political\\ninteractions now takes place at the global level, it rejects the idea that the global level\\nhas, in any sense, transcended politics at the national, local or, for that matter, any other\\nlevel. In particular, the advent of global politics does not imply that international\\npolitics should be consigned to the dustbin of history. This is important because the\\nnotion that politics has been caught up in a swirl of interconnectedness that effectively\\nabsorbs all of its parts, or ‘units’, into an indivisible, global whole, is difficult to sustain. ',\n",
       " 'number': 7,\n",
       " 'subject': 'global politics',\n",
       " 'tone': 'simple',\n",
       " 'response_json': '{\"1\": {\"mcq\": \"multiple choice question\", \"options\": {\"a\": \"choice here\", \"b\": \"choice here\", \"c\": \"choice here\", \"d\": \"choice here\"}, \"correct\": \"correct answer\"}, \"2\": {\"mcq\": \"multiple choice question\", \"options\": {\"a\": \"choice here\", \"b\": \"choice here\", \"c\": \"choice here\", \"d\": \"choice here\"}, \"correct\": \"correct answer\"}, \"3\": {\"mcq\": \"multiple choice question\", \"options\": {\"a\": \"choice here\", \"b\": \"choice here\", \"c\": \"choice here\", \"d\": \"choice here\"}, \"correct\": \"correct answer\"}}',\n",
       " 'quiz': '{\\n\"1\": {\\n\"mcq\": \"What is the main focus of traditional political studies?\",\\n\"options\": {\\n\"a\": \"Global level politics\",\\n\"b\": \"Local and national level politics\",\\n\"c\": \"Regional level politics\",\\n\"d\": \"State-centric politics\"\\n},\\n\"correct\": \"b\"\\n},\\n\"2\": {\\n\"mcq\": \"What concept has challenged state-centric ways of thinking about politics since the late twentieth century?\",\\n\"options\": {\\n\"a\": \"Globalization\",\\n\"b\": \"International relations\",\\n\"c\": \"Nationalism\",\\n\"d\": \"Sovereignty\"\\n},\\n\"correct\": \"a\"\\n},\\n\"3\": {\\n\"mcq\": \"What is the main focus of global politics according to the text?\",\\n\"options\": {\\n\"a\": \"Local politics\",\\n\"b\": \"National politics\",\\n\"c\": \"Global level politics\",\\n\"d\": \"State-centric politics\"\\n},\\n\"correct\": \"c\"\\n},\\n\"4\": {\\n\"mcq\": \"What does the term \\'global\\' mean in the context of global politics?\",\\n\"options\": {\\n\"a\": \"Between nations\",\\n\"b\": \"Worldwide\",\\n\"c\": \"Comprehensive\",\\n\"d\": \"Regional\"\\n},\\n\"correct\": \"b\"\\n},\\n\"5\": {\\n\"mcq\": \"What significant changes have occurred in world politics in recent years according to the text?\",\\n\"options\": {\\n\"a\": \"The growth of nationalism\",\\n\"b\": \"The rise of global governance\",\\n\"c\": \"The decline of interdependence\",\\n\"d\": \"The strengthening of the domestic/international divide\"\\n},\\n\"correct\": \"b\"\\n},\\n\"6\": {\\n\"mcq\": \"What does the term \\'international\\' mean in the context of global politics?\",\\n\"options\": {\\n\"a\": \"Between nations\",\\n\"b\": \"Worldwide\",\\n\"c\": \"Comprehensive\",\\n\"d\": \"Regional\"\\n},\\n\"correct\": \"a\"\\n},\\n\"7\": {\\n\"mcq\": \"How does global politics differ from international politics?\",\\n\"options\": {\\n\"a\": \"Global politics focuses on regional issues\",\\n\"b\": \"International politics focuses on global issues\",\\n\"c\": \"Global politics is conducted at a global level, while international politics is between nations\",\\n\"d\": \"International politics encompasses all levels of politics\"\\n},\\n\"correct\": \"c\"\\n}\\n}',\n",
       " 'review': 'The complexity of the quiz is suitable for global politics students. The questions cover key concepts in the field and require a good understanding of the subject matter. The tone is appropriate for the target audience. No changes are needed.'}"
      ]
     },
     "execution_count": 90,
     "metadata": {},
     "output_type": "execute_result"
    }
   ],
   "source": [
    "response"
   ]
  },
  {
   "cell_type": "code",
   "execution_count": 98,
   "metadata": {},
   "outputs": [
    {
     "name": "stdout",
     "output_type": "stream",
     "text": [
      "The complexity of the quiz is suitable for global politics students. The questions cover key concepts in the field and require a good understanding of the subject matter. The tone is appropriate for the target audience. No changes are needed.\n"
     ]
    }
   ],
   "source": [
    "quiz_review = response.get(\"review\")\n",
    "print(quiz_review)"
   ]
  },
  {
   "cell_type": "code",
   "execution_count": 91,
   "metadata": {},
   "outputs": [
    {
     "data": {
      "text/plain": [
       "'{\\n\"1\": {\\n\"mcq\": \"What is the main focus of traditional political studies?\",\\n\"options\": {\\n\"a\": \"Global level politics\",\\n\"b\": \"Local and national level politics\",\\n\"c\": \"Regional level politics\",\\n\"d\": \"State-centric politics\"\\n},\\n\"correct\": \"b\"\\n},\\n\"2\": {\\n\"mcq\": \"What concept has challenged state-centric ways of thinking about politics since the late twentieth century?\",\\n\"options\": {\\n\"a\": \"Globalization\",\\n\"b\": \"International relations\",\\n\"c\": \"Nationalism\",\\n\"d\": \"Sovereignty\"\\n},\\n\"correct\": \"a\"\\n},\\n\"3\": {\\n\"mcq\": \"What is the main focus of global politics according to the text?\",\\n\"options\": {\\n\"a\": \"Local politics\",\\n\"b\": \"National politics\",\\n\"c\": \"Global level politics\",\\n\"d\": \"State-centric politics\"\\n},\\n\"correct\": \"c\"\\n},\\n\"4\": {\\n\"mcq\": \"What does the term \\'global\\' mean in the context of global politics?\",\\n\"options\": {\\n\"a\": \"Between nations\",\\n\"b\": \"Worldwide\",\\n\"c\": \"Comprehensive\",\\n\"d\": \"Regional\"\\n},\\n\"correct\": \"b\"\\n},\\n\"5\": {\\n\"mcq\": \"What significant changes have occurred in world politics in recent years according to the text?\",\\n\"options\": {\\n\"a\": \"The growth of nationalism\",\\n\"b\": \"The rise of global governance\",\\n\"c\": \"The decline of interdependence\",\\n\"d\": \"The strengthening of the domestic/international divide\"\\n},\\n\"correct\": \"b\"\\n},\\n\"6\": {\\n\"mcq\": \"What does the term \\'international\\' mean in the context of global politics?\",\\n\"options\": {\\n\"a\": \"Between nations\",\\n\"b\": \"Worldwide\",\\n\"c\": \"Comprehensive\",\\n\"d\": \"Regional\"\\n},\\n\"correct\": \"a\"\\n},\\n\"7\": {\\n\"mcq\": \"How does global politics differ from international politics?\",\\n\"options\": {\\n\"a\": \"Global politics focuses on regional issues\",\\n\"b\": \"International politics focuses on global issues\",\\n\"c\": \"Global politics is conducted at a global level, while international politics is between nations\",\\n\"d\": \"International politics encompasses all levels of politics\"\\n},\\n\"correct\": \"c\"\\n}\\n}'"
      ]
     },
     "execution_count": 91,
     "metadata": {},
     "output_type": "execute_result"
    }
   ],
   "source": [
    "quiz_str = response.get(\"quiz\")\n",
    "quiz_str"
   ]
  },
  {
   "cell_type": "code",
   "execution_count": 92,
   "metadata": {},
   "outputs": [
    {
     "data": {
      "text/plain": [
       "{'1': {'mcq': 'What is the main focus of traditional political studies?',\n",
       "  'options': {'a': 'Global level politics',\n",
       "   'b': 'Local and national level politics',\n",
       "   'c': 'Regional level politics',\n",
       "   'd': 'State-centric politics'},\n",
       "  'correct': 'b'},\n",
       " '2': {'mcq': 'What concept has challenged state-centric ways of thinking about politics since the late twentieth century?',\n",
       "  'options': {'a': 'Globalization',\n",
       "   'b': 'International relations',\n",
       "   'c': 'Nationalism',\n",
       "   'd': 'Sovereignty'},\n",
       "  'correct': 'a'},\n",
       " '3': {'mcq': 'What is the main focus of global politics according to the text?',\n",
       "  'options': {'a': 'Local politics',\n",
       "   'b': 'National politics',\n",
       "   'c': 'Global level politics',\n",
       "   'd': 'State-centric politics'},\n",
       "  'correct': 'c'},\n",
       " '4': {'mcq': \"What does the term 'global' mean in the context of global politics?\",\n",
       "  'options': {'a': 'Between nations',\n",
       "   'b': 'Worldwide',\n",
       "   'c': 'Comprehensive',\n",
       "   'd': 'Regional'},\n",
       "  'correct': 'b'},\n",
       " '5': {'mcq': 'What significant changes have occurred in world politics in recent years according to the text?',\n",
       "  'options': {'a': 'The growth of nationalism',\n",
       "   'b': 'The rise of global governance',\n",
       "   'c': 'The decline of interdependence',\n",
       "   'd': 'The strengthening of the domestic/international divide'},\n",
       "  'correct': 'b'},\n",
       " '6': {'mcq': \"What does the term 'international' mean in the context of global politics?\",\n",
       "  'options': {'a': 'Between nations',\n",
       "   'b': 'Worldwide',\n",
       "   'c': 'Comprehensive',\n",
       "   'd': 'Regional'},\n",
       "  'correct': 'a'},\n",
       " '7': {'mcq': 'How does global politics differ from international politics?',\n",
       "  'options': {'a': 'Global politics focuses on regional issues',\n",
       "   'b': 'International politics focuses on global issues',\n",
       "   'c': 'Global politics is conducted at a global level, while international politics is between nations',\n",
       "   'd': 'International politics encompasses all levels of politics'},\n",
       "  'correct': 'c'}}"
      ]
     },
     "execution_count": 92,
     "metadata": {},
     "output_type": "execute_result"
    }
   ],
   "source": [
    "quiz_json = json.loads(quiz_str)\n",
    "quiz_json"
   ]
  },
  {
   "cell_type": "code",
   "execution_count": 93,
   "metadata": {},
   "outputs": [
    {
     "data": {
      "text/plain": [
       "[{'MCQ': 'What is the main focus of traditional political studies?',\n",
       "  'Choices': 'a: Global level politics | b: Local and national level politics | c: Regional level politics | d: State-centric politics',\n",
       "  'Correct': 'b'},\n",
       " {'MCQ': 'What concept has challenged state-centric ways of thinking about politics since the late twentieth century?',\n",
       "  'Choices': 'a: Globalization | b: International relations | c: Nationalism | d: Sovereignty',\n",
       "  'Correct': 'a'},\n",
       " {'MCQ': 'What is the main focus of global politics according to the text?',\n",
       "  'Choices': 'a: Local politics | b: National politics | c: Global level politics | d: State-centric politics',\n",
       "  'Correct': 'c'},\n",
       " {'MCQ': \"What does the term 'global' mean in the context of global politics?\",\n",
       "  'Choices': 'a: Between nations | b: Worldwide | c: Comprehensive | d: Regional',\n",
       "  'Correct': 'b'},\n",
       " {'MCQ': 'What significant changes have occurred in world politics in recent years according to the text?',\n",
       "  'Choices': 'a: The growth of nationalism | b: The rise of global governance | c: The decline of interdependence | d: The strengthening of the domestic/international divide',\n",
       "  'Correct': 'b'},\n",
       " {'MCQ': \"What does the term 'international' mean in the context of global politics?\",\n",
       "  'Choices': 'a: Between nations | b: Worldwide | c: Comprehensive | d: Regional',\n",
       "  'Correct': 'a'},\n",
       " {'MCQ': 'How does global politics differ from international politics?',\n",
       "  'Choices': 'a: Global politics focuses on regional issues | b: International politics focuses on global issues | c: Global politics is conducted at a global level, while international politics is between nations | d: International politics encompasses all levels of politics',\n",
       "  'Correct': 'c'}]"
      ]
     },
     "execution_count": 93,
     "metadata": {},
     "output_type": "execute_result"
    }
   ],
   "source": [
    "quiz_table = []\n",
    "for key, value in quiz_json.items():\n",
    "    mcq = value[\"mcq\"]\n",
    "    options = \" | \".join(\n",
    "        [\n",
    "            f\"{option}: {option_value}\"\n",
    "            for option, option_value in value[\"options\"].items()\n",
    "            ]\n",
    "        )\n",
    "    correct = value[\"correct\"]\n",
    "    quiz_table.append({\"MCQ\": mcq, \"Choices\": options, \"Correct\": correct})\n",
    "\n",
    "quiz_table"
   ]
  },
  {
   "cell_type": "code",
   "execution_count": 94,
   "metadata": {},
   "outputs": [
    {
     "data": {
      "text/html": [
       "<div>\n",
       "<style scoped>\n",
       "    .dataframe tbody tr th:only-of-type {\n",
       "        vertical-align: middle;\n",
       "    }\n",
       "\n",
       "    .dataframe tbody tr th {\n",
       "        vertical-align: top;\n",
       "    }\n",
       "\n",
       "    .dataframe thead th {\n",
       "        text-align: right;\n",
       "    }\n",
       "</style>\n",
       "<table border=\"1\" class=\"dataframe\">\n",
       "  <thead>\n",
       "    <tr style=\"text-align: right;\">\n",
       "      <th></th>\n",
       "      <th>MCQ</th>\n",
       "      <th>Choices</th>\n",
       "      <th>Correct</th>\n",
       "    </tr>\n",
       "  </thead>\n",
       "  <tbody>\n",
       "    <tr>\n",
       "      <th>0</th>\n",
       "      <td>What is the main focus of traditional politica...</td>\n",
       "      <td>a: Global level politics | b: Local and nation...</td>\n",
       "      <td>b</td>\n",
       "    </tr>\n",
       "    <tr>\n",
       "      <th>1</th>\n",
       "      <td>What concept has challenged state-centric ways...</td>\n",
       "      <td>a: Globalization | b: International relations ...</td>\n",
       "      <td>a</td>\n",
       "    </tr>\n",
       "    <tr>\n",
       "      <th>2</th>\n",
       "      <td>What is the main focus of global politics acco...</td>\n",
       "      <td>a: Local politics | b: National politics | c: ...</td>\n",
       "      <td>c</td>\n",
       "    </tr>\n",
       "    <tr>\n",
       "      <th>3</th>\n",
       "      <td>What does the term 'global' mean in the contex...</td>\n",
       "      <td>a: Between nations | b: Worldwide | c: Compreh...</td>\n",
       "      <td>b</td>\n",
       "    </tr>\n",
       "    <tr>\n",
       "      <th>4</th>\n",
       "      <td>What significant changes have occurred in worl...</td>\n",
       "      <td>a: The growth of nationalism | b: The rise of ...</td>\n",
       "      <td>b</td>\n",
       "    </tr>\n",
       "    <tr>\n",
       "      <th>5</th>\n",
       "      <td>What does the term 'international' mean in the...</td>\n",
       "      <td>a: Between nations | b: Worldwide | c: Compreh...</td>\n",
       "      <td>a</td>\n",
       "    </tr>\n",
       "    <tr>\n",
       "      <th>6</th>\n",
       "      <td>How does global politics differ from internati...</td>\n",
       "      <td>a: Global politics focuses on regional issues ...</td>\n",
       "      <td>c</td>\n",
       "    </tr>\n",
       "  </tbody>\n",
       "</table>\n",
       "</div>"
      ],
      "text/plain": [
       "                                                 MCQ  \\\n",
       "0  What is the main focus of traditional politica...   \n",
       "1  What concept has challenged state-centric ways...   \n",
       "2  What is the main focus of global politics acco...   \n",
       "3  What does the term 'global' mean in the contex...   \n",
       "4  What significant changes have occurred in worl...   \n",
       "5  What does the term 'international' mean in the...   \n",
       "6  How does global politics differ from internati...   \n",
       "\n",
       "                                             Choices Correct  \n",
       "0  a: Global level politics | b: Local and nation...       b  \n",
       "1  a: Globalization | b: International relations ...       a  \n",
       "2  a: Local politics | b: National politics | c: ...       c  \n",
       "3  a: Between nations | b: Worldwide | c: Compreh...       b  \n",
       "4  a: The growth of nationalism | b: The rise of ...       b  \n",
       "5  a: Between nations | b: Worldwide | c: Compreh...       a  \n",
       "6  a: Global politics focuses on regional issues ...       c  "
      ]
     },
     "execution_count": 94,
     "metadata": {},
     "output_type": "execute_result"
    }
   ],
   "source": [
    "quiz_df = pd.DataFrame(quiz_table)\n",
    "quiz_df"
   ]
  },
  {
   "cell_type": "code",
   "execution_count": 95,
   "metadata": {},
   "outputs": [],
   "source": [
    "quiz_df.to_csv(\"global_politics_quiz.csv\", index=False)"
   ]
  }
 ],
 "metadata": {
  "kernelspec": {
   "display_name": "Python 3",
   "language": "python",
   "name": "python3"
  },
  "language_info": {
   "codemirror_mode": {
    "name": "ipython",
    "version": 3
   },
   "file_extension": ".py",
   "mimetype": "text/x-python",
   "name": "python",
   "nbconvert_exporter": "python",
   "pygments_lexer": "ipython3",
   "version": "3.9.21"
  }
 },
 "nbformat": 4,
 "nbformat_minor": 2
}
